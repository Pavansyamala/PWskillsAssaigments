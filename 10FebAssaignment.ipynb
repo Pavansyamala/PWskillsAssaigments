{
 "cells": [
  {
   "cell_type": "raw",
   "id": "53c2d68e",
   "metadata": {},
   "source": [
    "Q1) \n",
    "\n",
    "open() method will be used for opening file \n",
    "\n",
    "'r' , 'w' , 'a' , 'rb' , 'wb' , 'ab' modes are different methods that are used for opening file \n"
   ]
  },
  {
   "cell_type": "raw",
   "id": "1042b358",
   "metadata": {},
   "source": [
    "Q2) \n",
    "\n",
    "close() function is used to close the opened file . \n",
    "It is important to close the file once it is opened because all the content which was stored in the file will be lost if its not closed and also it always uses systems memory if it's not closed"
   ]
  },
  {
   "cell_type": "code",
   "execution_count": 12,
   "id": "79bcfef2",
   "metadata": {},
   "outputs": [],
   "source": [
    "# Q3)\n",
    "path = 'D:/testing.txt'\n",
    "\n",
    "file = open(path , 'w')\n",
    "\n",
    "file.write('I am a Data Scientist')\n",
    "\n",
    "file.close()"
   ]
  },
  {
   "cell_type": "code",
   "execution_count": 16,
   "id": "3f0baafc",
   "metadata": {},
   "outputs": [
    {
     "name": "stdout",
     "output_type": "stream",
     "text": [
      "The Corporate Audit division at Bank of America plays a vital role in ensuring the organization's risk management, governance, and internal control processes are robust and effective. This division independently assesses these areas to guarantee compliance with regulatory requirements and internal policies, safeguarding the bank's integrity and stability. Through thorough evaluations, Corporate Audit identifies potential issues, enabling timely corrective actions and fostering continuous improvement across various business units.\n",
      "\n",
      "I am drawn to Bank of America due to its global reputation, commitment to innovation, and strong ethical practices. My experience as a Research Intern at IIT Kharagpur and IIT Madras, where I developed deep learning models for predictive maintenance and source localization, aligns well with the technology-driven approach of Bank of America's Corporate Audit division. Additionally, my proficiency in data analysis, feature engineering, and machine learning, as demonstrated in projects like Credit Card Fraud Detection and Generative Adversarial Networks, equips me with the skills needed to contribute effectively. Joining the Corporate Audit division as a Technology Analyst will allow me to leverage my expertise to enhance risk management processes and support the bank's mission of maintaining accountability and excellence.\n",
      "\n"
     ]
    }
   ],
   "source": [
    "#Q4)  read() function will be used for reading entire content as String , readline() will be used for reading first line of file\n",
    "# readlines() will returns list of all lines\n",
    "\n",
    "path = \"C:/Users/PAVAN/Downloads/The Corporate Audit division at Ban.txt\" \n",
    "\n",
    "with open(path , 'r') as file:\n",
    "    print(file.read())"
   ]
  },
  {
   "cell_type": "code",
   "execution_count": 17,
   "id": "5c5d6fc8",
   "metadata": {},
   "outputs": [
    {
     "name": "stdout",
     "output_type": "stream",
     "text": [
      "The Corporate Audit division at Bank of America plays a vital role in ensuring the organization's risk management, governance, and internal control processes are robust and effective. This division independently assesses these areas to guarantee compliance with regulatory requirements and internal policies, safeguarding the bank's integrity and stability. Through thorough evaluations, Corporate Audit identifies potential issues, enabling timely corrective actions and fostering continuous improvement across various business units.\n",
      "\n"
     ]
    }
   ],
   "source": [
    "path = \"C:/Users/PAVAN/Downloads/The Corporate Audit division at Ban.txt\" \n",
    "\n",
    "with open(path , 'r') as file:\n",
    "    print(file.readline())"
   ]
  },
  {
   "cell_type": "code",
   "execution_count": 18,
   "id": "0e912059",
   "metadata": {},
   "outputs": [
    {
     "name": "stdout",
     "output_type": "stream",
     "text": [
      "[\"The Corporate Audit division at Bank of America plays a vital role in ensuring the organization's risk management, governance, and internal control processes are robust and effective. This division independently assesses these areas to guarantee compliance with regulatory requirements and internal policies, safeguarding the bank's integrity and stability. Through thorough evaluations, Corporate Audit identifies potential issues, enabling timely corrective actions and fostering continuous improvement across various business units.\\n\", '\\n', \"I am drawn to Bank of America due to its global reputation, commitment to innovation, and strong ethical practices. My experience as a Research Intern at IIT Kharagpur and IIT Madras, where I developed deep learning models for predictive maintenance and source localization, aligns well with the technology-driven approach of Bank of America's Corporate Audit division. Additionally, my proficiency in data analysis, feature engineering, and machine learning, as demonstrated in projects like Credit Card Fraud Detection and Generative Adversarial Networks, equips me with the skills needed to contribute effectively. Joining the Corporate Audit division as a Technology Analyst will allow me to leverage my expertise to enhance risk management processes and support the bank's mission of maintaining accountability and excellence.\\n\"]\n"
     ]
    }
   ],
   "source": [
    "path = \"C:/Users/PAVAN/Downloads/The Corporate Audit division at Ban.txt\" \n",
    "\n",
    "with open(path , 'r') as file:\n",
    "    print(file.readlines())"
   ]
  },
  {
   "cell_type": "raw",
   "id": "26b2ad27",
   "metadata": {},
   "source": [
    "Q5) \n",
    "\n",
    "with open() function is mainly benifited because we dont need to write close() statement "
   ]
  },
  {
   "cell_type": "code",
   "execution_count": 20,
   "id": "c7bab63f",
   "metadata": {},
   "outputs": [],
   "source": [
    "# Q6) write() used to write a string into file , write_lines() used for writing list of lines\n",
    "\n",
    "path = 'D:/testing1.txt'\n",
    "path1 = 'D:/testing2.txt'\n",
    "\n",
    "with open(path , 'w') as file : \n",
    "    file.write('Hi ! I am Kasa Pavan')\n",
    "    \n",
    "with open(path1 , 'w') as file : \n",
    "    file.writelines(['Hi ! I am Kasa Pavan' , 'I am a student at IIEST Shibpur' , 'I loved to learn Data Science'])\n",
    "    \n",
    "    "
   ]
  },
  {
   "cell_type": "code",
   "execution_count": null,
   "id": "c77fc270",
   "metadata": {},
   "outputs": [],
   "source": []
  },
  {
   "cell_type": "code",
   "execution_count": null,
   "id": "29a8393c",
   "metadata": {},
   "outputs": [],
   "source": []
  },
  {
   "cell_type": "code",
   "execution_count": null,
   "id": "7f61bee2",
   "metadata": {},
   "outputs": [],
   "source": []
  },
  {
   "cell_type": "code",
   "execution_count": null,
   "id": "34784595",
   "metadata": {},
   "outputs": [],
   "source": []
  },
  {
   "cell_type": "code",
   "execution_count": null,
   "id": "458fc3da",
   "metadata": {},
   "outputs": [],
   "source": []
  },
  {
   "cell_type": "code",
   "execution_count": null,
   "id": "d517b8fc",
   "metadata": {},
   "outputs": [],
   "source": []
  },
  {
   "cell_type": "code",
   "execution_count": null,
   "id": "a21bf9a9",
   "metadata": {},
   "outputs": [],
   "source": []
  }
 ],
 "metadata": {
  "kernelspec": {
   "display_name": "Python 3 (ipykernel)",
   "language": "python",
   "name": "python3"
  },
  "language_info": {
   "codemirror_mode": {
    "name": "ipython",
    "version": 3
   },
   "file_extension": ".py",
   "mimetype": "text/x-python",
   "name": "python",
   "nbconvert_exporter": "python",
   "pygments_lexer": "ipython3",
   "version": "3.11.5"
  }
 },
 "nbformat": 4,
 "nbformat_minor": 5
}
