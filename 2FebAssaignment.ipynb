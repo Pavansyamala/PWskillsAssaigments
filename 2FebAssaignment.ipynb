{
 "cells": [
  {
   "cell_type": "code",
   "execution_count": 1,
   "id": "80e28ab9",
   "metadata": {},
   "outputs": [],
   "source": [
    "# Tuples"
   ]
  },
  {
   "cell_type": "raw",
   "id": "7e0f6811",
   "metadata": {},
   "source": [
    "# Q1) \n",
    "Yes Tuple is immutable because we are not ble to change the elements of tuple once it is defined \n",
    "Tuple can able to store different elements and we are able to iterate through the tuples"
   ]
  },
  {
   "cell_type": "raw",
   "id": "9fbcbc6f",
   "metadata": {},
   "source": [
    "Q2) \n",
    "\n",
    "Two tuple methods includes \n",
    "\n",
    "Slicing through tuple\n",
    "Concatination of tuples "
   ]
  },
  {
   "cell_type": "code",
   "execution_count": 4,
   "id": "96f4ee16",
   "metadata": {},
   "outputs": [],
   "source": [
    "a = (1,3)\n",
    "b = (4,5)"
   ]
  },
  {
   "cell_type": "code",
   "execution_count": 7,
   "id": "e0e70e90",
   "metadata": {},
   "outputs": [
    {
     "name": "stdout",
     "output_type": "stream",
     "text": [
      "Concatination through tuples :  (1, 3, 4, 5)\n",
      "1\n",
      "3\n"
     ]
    }
   ],
   "source": [
    "print(\"Concatination through tuples : \" , a+b) # Concatination \n",
    "# Iterating through tuples\n",
    "for i in a:\n",
    "    print(i)"
   ]
  },
  {
   "cell_type": "raw",
   "id": "45437516",
   "metadata": {},
   "source": [
    "Q3 \n",
    "Set dataset doesn't allow duplicate elements "
   ]
  },
  {
   "cell_type": "code",
   "execution_count": 8,
   "id": "01b9fb26",
   "metadata": {},
   "outputs": [],
   "source": [
    "arr = [1, 1, 1, 2, 1, 3, 1, 4, 2, 1, 2, 2, 2, 3, 2, 4, 3, 1, 3, 2, 3, 3, 3, 4, 4, 1, 4, 2, 4, 3, 4, 4]"
   ]
  },
  {
   "cell_type": "code",
   "execution_count": 10,
   "id": "a55302c5",
   "metadata": {},
   "outputs": [
    {
     "data": {
      "text/plain": [
       "[1, 2, 3, 4]"
      ]
     },
     "execution_count": 10,
     "metadata": {},
     "output_type": "execute_result"
    }
   ],
   "source": [
    "list(set(arr))"
   ]
  },
  {
   "cell_type": "raw",
   "id": "cc31d335",
   "metadata": {},
   "source": [
    "Q4\n",
    "Union method in sets gives the all different elements in two sets  and it does not change the original set\n",
    "Update method will also returns union but it will changes set definately refer to following examples"
   ]
  },
  {
   "cell_type": "code",
   "execution_count": 15,
   "id": "73cd2b7c",
   "metadata": {},
   "outputs": [],
   "source": [
    "set1 = {1,9,2}\n",
    "set2 = {3,4,8}"
   ]
  },
  {
   "cell_type": "code",
   "execution_count": 16,
   "id": "ab3ffeaf",
   "metadata": {},
   "outputs": [
    {
     "data": {
      "text/plain": [
       "{1, 2, 3, 4, 8, 9}"
      ]
     },
     "execution_count": 16,
     "metadata": {},
     "output_type": "execute_result"
    }
   ],
   "source": [
    "set1.union(set2)"
   ]
  },
  {
   "cell_type": "code",
   "execution_count": 13,
   "id": "fc7703ef",
   "metadata": {},
   "outputs": [],
   "source": [
    "set1.update(set2)"
   ]
  },
  {
   "cell_type": "code",
   "execution_count": 14,
   "id": "dd221da8",
   "metadata": {},
   "outputs": [
    {
     "data": {
      "text/plain": [
       "{1, 2, 3, 4, 8, 9}"
      ]
     },
     "execution_count": 14,
     "metadata": {},
     "output_type": "execute_result"
    }
   ],
   "source": [
    "set1"
   ]
  },
  {
   "cell_type": "raw",
   "id": "4054401c",
   "metadata": {},
   "source": [
    "Q5\n",
    "Dictionary in python will stores its elements as key value pairs , where we are able to simply extract the required elements in O(1) time complexity \n",
    "\n",
    "Dictionay will stores its elements in Ordered in terms of its keys "
   ]
  },
  {
   "cell_type": "raw",
   "id": "5bd81185",
   "metadata": {},
   "source": [
    "Q6) \n",
    "\n",
    "Yes we are able to create nested dictionary "
   ]
  },
  {
   "cell_type": "code",
   "execution_count": 19,
   "id": "7c812917",
   "metadata": {},
   "outputs": [],
   "source": [
    "dict2 = {'a':{3,4,5}}"
   ]
  },
  {
   "cell_type": "code",
   "execution_count": 20,
   "id": "3cfca7af",
   "metadata": {},
   "outputs": [
    {
     "data": {
      "text/plain": [
       "{'a': {3, 4, 5}}"
      ]
     },
     "execution_count": 20,
     "metadata": {},
     "output_type": "execute_result"
    }
   ],
   "source": [
    "dict2"
   ]
  },
  {
   "cell_type": "raw",
   "id": "92260cb4",
   "metadata": {},
   "source": [
    "Q7 "
   ]
  },
  {
   "cell_type": "code",
   "execution_count": 21,
   "id": "4dfec67f",
   "metadata": {},
   "outputs": [],
   "source": [
    "quest7 = {}\n",
    "quest7.setdefault('Topics')"
   ]
  },
  {
   "cell_type": "code",
   "execution_count": 28,
   "id": "d33c33a6",
   "metadata": {},
   "outputs": [],
   "source": [
    "quest7['Topics'] = ['Python' , 'Machine Learning' , 'Deep Learning']"
   ]
  },
  {
   "cell_type": "code",
   "execution_count": 29,
   "id": "8695bbf2",
   "metadata": {},
   "outputs": [
    {
     "data": {
      "text/plain": [
       "{'Topics': ['Python', 'Machine Learning', 'Deep Learning']}"
      ]
     },
     "execution_count": 29,
     "metadata": {},
     "output_type": "execute_result"
    }
   ],
   "source": [
    "quest7"
   ]
  },
  {
   "cell_type": "code",
   "execution_count": null,
   "id": "450ae05a",
   "metadata": {},
   "outputs": [],
   "source": []
  },
  {
   "cell_type": "raw",
   "id": "c051f3cf",
   "metadata": {},
   "source": [
    "Q8 "
   ]
  },
  {
   "cell_type": "code",
   "execution_count": 30,
   "id": "6e6b31ae",
   "metadata": {},
   "outputs": [],
   "source": [
    "dict1 = {'Sport': 'Cricket' , 'Teams': ['India', 'Australia', 'England', 'South Africa', 'Sri Lanka', 'New Zealand']}"
   ]
  },
  {
   "cell_type": "code",
   "execution_count": 31,
   "id": "7716322c",
   "metadata": {},
   "outputs": [],
   "source": [
    "#1st view object \n",
    "\n",
    "keys = dict1.keys()   # Keys method\n",
    "values = dict1.values() # Values method\n",
    "items = dict1.items() # returns both keys and values"
   ]
  },
  {
   "cell_type": "code",
   "execution_count": 32,
   "id": "c3ede1a5",
   "metadata": {},
   "outputs": [
    {
     "data": {
      "text/plain": [
       "dict_keys(['Sport', 'Teams'])"
      ]
     },
     "execution_count": 32,
     "metadata": {},
     "output_type": "execute_result"
    }
   ],
   "source": [
    "keys"
   ]
  },
  {
   "cell_type": "code",
   "execution_count": 33,
   "id": "24da06b6",
   "metadata": {},
   "outputs": [
    {
     "data": {
      "text/plain": [
       "dict_values(['Cricket', ['India', 'Australia', 'England', 'South Africa', 'Sri Lanka', 'New Zealand']])"
      ]
     },
     "execution_count": 33,
     "metadata": {},
     "output_type": "execute_result"
    }
   ],
   "source": [
    "values"
   ]
  },
  {
   "cell_type": "code",
   "execution_count": 35,
   "id": "2b9fea8f",
   "metadata": {},
   "outputs": [],
   "source": [
    "keys_ , values_ = items"
   ]
  },
  {
   "cell_type": "code",
   "execution_count": 36,
   "id": "5ebb0680",
   "metadata": {},
   "outputs": [
    {
     "name": "stdout",
     "output_type": "stream",
     "text": [
      "Keys using items method :  ('Sport', 'Cricket')\n",
      "Values using items method :  ('Teams', ['India', 'Australia', 'England', 'South Africa', 'Sri Lanka', 'New Zealand'])\n"
     ]
    }
   ],
   "source": [
    "print(\"Keys using items method : \",keys_)\n",
    "print(\"Values using items method : \",values_)"
   ]
  },
  {
   "cell_type": "code",
   "execution_count": null,
   "id": "221c97dc",
   "metadata": {},
   "outputs": [],
   "source": []
  },
  {
   "cell_type": "code",
   "execution_count": null,
   "id": "3b368b48",
   "metadata": {},
   "outputs": [],
   "source": []
  }
 ],
 "metadata": {
  "kernelspec": {
   "display_name": "Python 3 (ipykernel)",
   "language": "python",
   "name": "python3"
  },
  "language_info": {
   "codemirror_mode": {
    "name": "ipython",
    "version": 3
   },
   "file_extension": ".py",
   "mimetype": "text/x-python",
   "name": "python",
   "nbconvert_exporter": "python",
   "pygments_lexer": "ipython3",
   "version": "3.11.5"
  }
 },
 "nbformat": 4,
 "nbformat_minor": 5
}
