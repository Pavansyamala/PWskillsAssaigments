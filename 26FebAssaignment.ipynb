{
 "cells": [
  {
   "cell_type": "code",
   "execution_count": 56,
   "id": "5ec2da10",
   "metadata": {},
   "outputs": [],
   "source": [
    "import numpy as np\n",
    "list_ = [ '1' , '2' , '3' , '4' , '5' ]\n",
    "array_list = np.array(object = list_)"
   ]
  },
  {
   "cell_type": "code",
   "execution_count": 57,
   "id": "5e2f7f10",
   "metadata": {},
   "outputs": [
    {
     "data": {
      "text/plain": [
       "array(['1', '2', '3', '4', '5'], dtype='<U1')"
      ]
     },
     "execution_count": 57,
     "metadata": {},
     "output_type": "execute_result"
    }
   ],
   "source": [
    "array_list"
   ]
  },
  {
   "cell_type": "code",
   "execution_count": 61,
   "id": "bf69b2e7",
   "metadata": {},
   "outputs": [
    {
     "name": "stdout",
     "output_type": "stream",
     "text": [
      "<U1\n",
      "<class 'str'>\n"
     ]
    }
   ],
   "source": [
    "#Q1) Yes there is a difference b/w dtypes \n",
    "\n",
    "print(array_list[0].dtype)\n",
    "print(type(list_[0]))"
   ]
  },
  {
   "cell_type": "code",
   "execution_count": 63,
   "id": "5c4d1b35",
   "metadata": {},
   "outputs": [
    {
     "name": "stdout",
     "output_type": "stream",
     "text": [
      "Dtype of 1 in array_list  is <U1\n",
      "Dtype of 1 in list_  is <class 'str'>\n",
      "Dtype of 2 in array_list  is <U1\n",
      "Dtype of 2 in list_  is <class 'str'>\n",
      "Dtype of 3 in array_list  is <U1\n",
      "Dtype of 3 in list_  is <class 'str'>\n",
      "Dtype of 4 in array_list  is <U1\n",
      "Dtype of 4 in list_  is <class 'str'>\n",
      "Dtype of 5 in array_list  is <U1\n",
      "Dtype of 5 in list_  is <class 'str'>\n"
     ]
    }
   ],
   "source": [
    "#Q2 \n",
    "\n",
    "for i in range(len(list_)):\n",
    "    print(f'Dtype of {array_list[i]} in array_list  is {array_list[i].dtype}')\n",
    "    print(f'Dtype of {list_[i]} in list_  is {type(list_[i])}')"
   ]
  },
  {
   "cell_type": "code",
   "execution_count": 65,
   "id": "bd3c584f",
   "metadata": {},
   "outputs": [],
   "source": [
    "#Q3 )\n",
    "\n",
    "array_list = np.array(object = list_, dtype = int)"
   ]
  },
  {
   "cell_type": "code",
   "execution_count": 67,
   "id": "241b7d9b",
   "metadata": {},
   "outputs": [
    {
     "name": "stdout",
     "output_type": "stream",
     "text": [
      "Dtype of 1 in array_list  is int32\n",
      "Dtype of 1 in list_  is <class 'str'>\n",
      "Dtype of 2 in array_list  is int32\n",
      "Dtype of 2 in list_  is <class 'str'>\n",
      "Dtype of 3 in array_list  is int32\n",
      "Dtype of 3 in list_  is <class 'str'>\n",
      "Dtype of 4 in array_list  is int32\n",
      "Dtype of 4 in list_  is <class 'str'>\n",
      "Dtype of 5 in array_list  is int32\n",
      "Dtype of 5 in list_  is <class 'str'>\n"
     ]
    }
   ],
   "source": [
    "\n",
    "for i in range(len(list_)):\n",
    "    print(f'Dtype of {array_list[i]} in array_list  is {array_list[i].dtype}')\n",
    "    print(f'Dtype of {list_[i]} in list_  is {type(list_[i])}')"
   ]
  },
  {
   "cell_type": "code",
   "execution_count": 69,
   "id": "09bf57f9",
   "metadata": {},
   "outputs": [],
   "source": [
    "#Q4) \n",
    "\n",
    "import numpy as np\n",
    "num_list = [ [ 1 , 2 , 3 ] , [ 4 , 5 , 6 ] ]\n",
    "num_array = np.array(object = num_list)"
   ]
  },
  {
   "cell_type": "code",
   "execution_count": 71,
   "id": "d0bf9173",
   "metadata": {},
   "outputs": [
    {
     "name": "stdout",
     "output_type": "stream",
     "text": [
      "Shape of num_array :  (2, 3)\n",
      "Size of num_array :  6\n"
     ]
    }
   ],
   "source": [
    "\n",
    "print(\"Shape of num_array : \",np.shape(num_array))\n",
    "print(\"Size of num_array : \" , np.size(num_array))"
   ]
  },
  {
   "cell_type": "code",
   "execution_count": 72,
   "id": "0c4bf074",
   "metadata": {},
   "outputs": [
    {
     "data": {
      "text/plain": [
       "array([[0., 0., 0.],\n",
       "       [0., 0., 0.],\n",
       "       [0., 0., 0.]])"
      ]
     },
     "execution_count": 72,
     "metadata": {},
     "output_type": "execute_result"
    }
   ],
   "source": [
    "#Q5)\n",
    "\n",
    "np.zeros((3,3))"
   ]
  },
  {
   "cell_type": "code",
   "execution_count": 74,
   "id": "beddacbd",
   "metadata": {},
   "outputs": [
    {
     "data": {
      "text/plain": [
       "array([[1., 0., 0., 0., 0.],\n",
       "       [0., 1., 0., 0., 0.],\n",
       "       [0., 0., 1., 0., 0.],\n",
       "       [0., 0., 0., 1., 0.],\n",
       "       [0., 0., 0., 0., 1.]])"
      ]
     },
     "execution_count": 74,
     "metadata": {},
     "output_type": "execute_result"
    }
   ],
   "source": [
    "#Q6) \n",
    "\n",
    "np.identity(5)"
   ]
  },
  {
   "cell_type": "code",
   "execution_count": null,
   "id": "996eef65",
   "metadata": {},
   "outputs": [],
   "source": []
  },
  {
   "cell_type": "code",
   "execution_count": null,
   "id": "aef3cd10",
   "metadata": {},
   "outputs": [],
   "source": []
  },
  {
   "cell_type": "code",
   "execution_count": null,
   "id": "f1dc9859",
   "metadata": {},
   "outputs": [],
   "source": []
  },
  {
   "cell_type": "code",
   "execution_count": null,
   "id": "d4afb5e9",
   "metadata": {},
   "outputs": [],
   "source": []
  },
  {
   "cell_type": "code",
   "execution_count": null,
   "id": "fbf58576",
   "metadata": {},
   "outputs": [],
   "source": []
  }
 ],
 "metadata": {
  "kernelspec": {
   "display_name": "Python 3 (ipykernel)",
   "language": "python",
   "name": "python3"
  },
  "language_info": {
   "codemirror_mode": {
    "name": "ipython",
    "version": 3
   },
   "file_extension": ".py",
   "mimetype": "text/x-python",
   "name": "python",
   "nbconvert_exporter": "python",
   "pygments_lexer": "ipython3",
   "version": "3.11.5"
  }
 },
 "nbformat": 4,
 "nbformat_minor": 5
}
