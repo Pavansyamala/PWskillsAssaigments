{
 "cells": [
  {
   "cell_type": "raw",
   "id": "aaec8b12",
   "metadata": {},
   "source": [
    "Q1 ) \n",
    "\n",
    "Statistics is a branch of mathematics which deals with the exploration of data \n",
    "\n",
    "using statistics we are able to take decisions on mathematics "
   ]
  },
  {
   "cell_type": "raw",
   "id": "48c2b1ff",
   "metadata": {},
   "source": [
    "Q2) \n",
    "\n",
    "Different types of Statistics : \n",
    "\n",
    "    1. Descriptive Statistics --> Drawing conclusions on sample \n",
    "    2. Inferential Statistics --> Drawing conclusions of Population"
   ]
  },
  {
   "cell_type": "raw",
   "id": "fb41db87",
   "metadata": {},
   "source": [
    "Q3) \n",
    "\n",
    "Different types of Data are : \n",
    "    1. Categorical data\n",
    "    2. Numerucal Data \n",
    "        i) Discrete Data\n",
    "        ii) Continuous Data "
   ]
  },
  {
   "cell_type": "raw",
   "id": "e4da050a",
   "metadata": {},
   "source": [
    "Q4) \n",
    "\n",
    "(i) Grading in exam: A+, A, B+, B, C+, C, D, E         ---> Qualitative Data\n",
    "(ii) Colour of mangoes: yellow, green, orange, red     ---> Qualitative Data\n",
    "(iii) Height data of a class: [178.9, 179, 179.5, 176, 177.2, 178.3, 175.8,...] --> Quantitave Data\n",
    "(iv) Number of mangoes exported by a farm: [500, 600, 478, 672, ...] --> Quantitative Data "
   ]
  },
  {
   "cell_type": "raw",
   "id": "8dc066a0",
   "metadata": {},
   "source": [
    "Q5) \n",
    "\n",
    "Levels of Measurement \n",
    "\n",
    "1) Nominal Data     --> eg: mangoes , apples , etc...\n",
    "2) Ordianl Data --> eg : school, high school , degree\n",
    "3) Interval Data --> 30 degrees F , 40 degrees F , etc...\n",
    "4) Ratio Data ---> -20,0,90 "
   ]
  },
  {
   "cell_type": "raw",
   "id": "eb2a1cc8",
   "metadata": {},
   "source": [
    "Q6) \n",
    "\n",
    "It is important to understand the level of measurement of data\n",
    "because , \n",
    "whenever we are doing some statistical analysis on the data we need to know is it belonging to that particular measurement or not"
   ]
  },
  {
   "cell_type": "raw",
   "id": "49014e2f",
   "metadata": {},
   "source": [
    "Q7) \n",
    "\n",
    "in , Nominal data there is no specific order will be given , but in case of Ordinal data Order of the data is important "
   ]
  },
  {
   "cell_type": "raw",
   "id": "28376c0d",
   "metadata": {},
   "source": [
    "Q8)\n",
    " \n",
    "Histogram Plots can be used to visualize data interms of Range "
   ]
  },
  {
   "cell_type": "raw",
   "id": "9a89456d",
   "metadata": {},
   "source": [
    "Q9) \n",
    "\n",
    "Descriptive Statistics is used to perform statistical analysis on the Sample data that is collected\n",
    "\n",
    "Inferential Statistics will be used to draw conclusions on the entire data using this Descriptive statistical analysis"
   ]
  },
  {
   "cell_type": "raw",
   "id": "f9d82d2f",
   "metadata": {},
   "source": [
    "Q10) \n",
    "\n",
    "Central Tendency : Mean , Median , Mode , Quantile\n",
    "Variability : Range , Variance , Standard Deviation"
   ]
  },
  {
   "cell_type": "code",
   "execution_count": null,
   "id": "da955803",
   "metadata": {},
   "outputs": [],
   "source": []
  },
  {
   "cell_type": "code",
   "execution_count": null,
   "id": "8b32afbe",
   "metadata": {},
   "outputs": [],
   "source": []
  },
  {
   "cell_type": "code",
   "execution_count": null,
   "id": "70d477b6",
   "metadata": {},
   "outputs": [],
   "source": []
  },
  {
   "cell_type": "code",
   "execution_count": null,
   "id": "a6f5412d",
   "metadata": {},
   "outputs": [],
   "source": []
  },
  {
   "cell_type": "code",
   "execution_count": null,
   "id": "a630abad",
   "metadata": {},
   "outputs": [],
   "source": []
  },
  {
   "cell_type": "code",
   "execution_count": null,
   "id": "f7a6e3b3",
   "metadata": {},
   "outputs": [],
   "source": []
  },
  {
   "cell_type": "code",
   "execution_count": null,
   "id": "47b82ec0",
   "metadata": {},
   "outputs": [],
   "source": []
  },
  {
   "cell_type": "code",
   "execution_count": null,
   "id": "5df5481d",
   "metadata": {},
   "outputs": [],
   "source": []
  },
  {
   "cell_type": "code",
   "execution_count": null,
   "id": "944f328a",
   "metadata": {},
   "outputs": [],
   "source": []
  },
  {
   "cell_type": "code",
   "execution_count": null,
   "id": "af8bf890",
   "metadata": {},
   "outputs": [],
   "source": []
  },
  {
   "cell_type": "code",
   "execution_count": null,
   "id": "502c5b1d",
   "metadata": {},
   "outputs": [],
   "source": []
  },
  {
   "cell_type": "code",
   "execution_count": null,
   "id": "bbfdb8c7",
   "metadata": {},
   "outputs": [],
   "source": []
  },
  {
   "cell_type": "code",
   "execution_count": null,
   "id": "400c485e",
   "metadata": {},
   "outputs": [],
   "source": []
  },
  {
   "cell_type": "code",
   "execution_count": null,
   "id": "0360eaad",
   "metadata": {},
   "outputs": [],
   "source": []
  },
  {
   "cell_type": "code",
   "execution_count": null,
   "id": "c3dd2757",
   "metadata": {},
   "outputs": [],
   "source": []
  },
  {
   "cell_type": "code",
   "execution_count": null,
   "id": "a4e30439",
   "metadata": {},
   "outputs": [],
   "source": []
  },
  {
   "cell_type": "code",
   "execution_count": null,
   "id": "fd3aeba5",
   "metadata": {},
   "outputs": [],
   "source": []
  },
  {
   "cell_type": "code",
   "execution_count": null,
   "id": "3a279374",
   "metadata": {},
   "outputs": [],
   "source": []
  },
  {
   "cell_type": "code",
   "execution_count": null,
   "id": "cd50b9b1",
   "metadata": {},
   "outputs": [],
   "source": []
  },
  {
   "cell_type": "code",
   "execution_count": null,
   "id": "5e6b42dc",
   "metadata": {},
   "outputs": [],
   "source": []
  },
  {
   "cell_type": "code",
   "execution_count": null,
   "id": "aa2d3930",
   "metadata": {},
   "outputs": [],
   "source": []
  },
  {
   "cell_type": "code",
   "execution_count": null,
   "id": "d7257ffc",
   "metadata": {},
   "outputs": [],
   "source": []
  },
  {
   "cell_type": "code",
   "execution_count": null,
   "id": "b9bf8560",
   "metadata": {},
   "outputs": [],
   "source": []
  },
  {
   "cell_type": "code",
   "execution_count": null,
   "id": "6c909806",
   "metadata": {},
   "outputs": [],
   "source": []
  },
  {
   "cell_type": "code",
   "execution_count": null,
   "id": "9130ca2e",
   "metadata": {},
   "outputs": [],
   "source": []
  },
  {
   "cell_type": "code",
   "execution_count": null,
   "id": "17e7551a",
   "metadata": {},
   "outputs": [],
   "source": []
  },
  {
   "cell_type": "code",
   "execution_count": null,
   "id": "882d4f88",
   "metadata": {},
   "outputs": [],
   "source": []
  },
  {
   "cell_type": "code",
   "execution_count": null,
   "id": "8deb438b",
   "metadata": {},
   "outputs": [],
   "source": []
  },
  {
   "cell_type": "code",
   "execution_count": null,
   "id": "de51e7a3",
   "metadata": {},
   "outputs": [],
   "source": []
  },
  {
   "cell_type": "code",
   "execution_count": null,
   "id": "058748dc",
   "metadata": {},
   "outputs": [],
   "source": []
  }
 ],
 "metadata": {
  "kernelspec": {
   "display_name": "Python 3 (ipykernel)",
   "language": "python",
   "name": "python3"
  },
  "language_info": {
   "codemirror_mode": {
    "name": "ipython",
    "version": 3
   },
   "file_extension": ".py",
   "mimetype": "text/x-python",
   "name": "python",
   "nbconvert_exporter": "python",
   "pygments_lexer": "ipython3",
   "version": "3.11.5"
  }
 },
 "nbformat": 4,
 "nbformat_minor": 5
}
