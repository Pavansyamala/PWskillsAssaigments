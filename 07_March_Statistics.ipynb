{
 "cells": [
  {
   "cell_type": "raw",
   "id": "470bbe0c",
   "metadata": {},
   "source": [
    "Q1 ) \n",
    "\n",
    "Three types of Central Tendency are : Mean , Median , Mode "
   ]
  },
  {
   "cell_type": "raw",
   "id": "8df881eb",
   "metadata": {},
   "source": [
    "Q2) \n",
    "\n",
    "Mean :  Average of all the Data points \n",
    "Median : Central Value in the Data when it is arranged in Ascending order (50% of data lies below and 50% lies above)\n",
    "Mode : Most Repeated Value in the Data points"
   ]
  },
  {
   "cell_type": "code",
   "execution_count": 28,
   "id": "75155884",
   "metadata": {},
   "outputs": [
    {
     "name": "stdout",
     "output_type": "stream",
     "text": [
      "Mean 177.01875\n",
      "Median  177.0\n",
      "Mode  178.0\n"
     ]
    }
   ],
   "source": [
    "# Q3) \n",
    "\n",
    "import numpy as np \n",
    "arr = np.array([178,177,176,177,178.2,178,175,179,180,175,178.9,176.2,177,172.5,178,176.5])\n",
    "\n",
    "print('Mean' , np.mean(arr))\n",
    "print('Median ' , np.median(arr))\n",
    "data = {}\n",
    "for i in arr:\n",
    "    if data.get(i):\n",
    "        data[i] += 1 \n",
    "    else : \n",
    "        data[i] = 1 \n",
    "max_val = 0 \n",
    "ans = 0\n",
    "for key , val in data.items():\n",
    "    if val > max_val :\n",
    "        ans = key\n",
    "        max_val = val \n",
    "print('Mode ' ,ans )"
   ]
  },
  {
   "cell_type": "code",
   "execution_count": 30,
   "id": "4f2bf553",
   "metadata": {},
   "outputs": [
    {
     "name": "stdout",
     "output_type": "stream",
     "text": [
      "1.7885814036548633\n"
     ]
    }
   ],
   "source": [
    "# Q4) \n",
    "\n",
    "arr = [178,177,176,177,178.2,178,175,179,180,175,178.9,176.2,177,172.5,178,176.5]\n",
    "print(np.std(arr))"
   ]
  },
  {
   "cell_type": "raw",
   "id": "034d9f52",
   "metadata": {},
   "source": [
    "Q5) \n",
    "\n",
    "Standard Debiation , Variance tells about the spread of the data w.r.to mean \n",
    "Range will tell about difference b/w maximum and minimum"
   ]
  },
  {
   "cell_type": "raw",
   "id": "d400cb40",
   "metadata": {},
   "source": [
    "Q6) \n",
    "\n",
    "Venn Diagrams are representation of the sets in the form of circles "
   ]
  },
  {
   "cell_type": "code",
   "execution_count": 31,
   "id": "66ca5024",
   "metadata": {},
   "outputs": [
    {
     "name": "stdout",
     "output_type": "stream",
     "text": [
      "intersection of A and B  {2, 6}\n",
      "Union of A and B  {0, 2, 3, 4, 5, 6, 7, 8, 10}\n"
     ]
    }
   ],
   "source": [
    "# Q7) \n",
    "\n",
    "A = {2,3,4,5,6,7}\n",
    "B = {0,2,6,8,10}\n",
    "\n",
    "print('intersection of A and B ' , A.intersection(B))\n",
    "print('Union of A and B ',A.union(B))"
   ]
  },
  {
   "cell_type": "raw",
   "id": "0b373ef6",
   "metadata": {},
   "source": [
    "Q8)\n",
    " \n",
    "Skewness of the data will tells about how much the data will be skewed (i.e , is that data is more skewed towards the left compared to mean or right towards the right)"
   ]
  },
  {
   "cell_type": "raw",
   "id": "bfc37201",
   "metadata": {},
   "source": [
    "Q9) \n",
    "\n",
    "If a data is right skewed then median <  mean ."
   ]
  },
  {
   "cell_type": "raw",
   "id": "1f450d24",
   "metadata": {},
   "source": [
    "Q10) \n",
    "\n"
   ]
  },
  {
   "cell_type": "code",
   "execution_count": null,
   "id": "62366f02",
   "metadata": {},
   "outputs": [],
   "source": []
  },
  {
   "cell_type": "code",
   "execution_count": null,
   "id": "2873d3d2",
   "metadata": {},
   "outputs": [],
   "source": []
  },
  {
   "cell_type": "code",
   "execution_count": null,
   "id": "2cb3b676",
   "metadata": {},
   "outputs": [],
   "source": []
  },
  {
   "cell_type": "code",
   "execution_count": null,
   "id": "a19d80ec",
   "metadata": {},
   "outputs": [],
   "source": []
  },
  {
   "cell_type": "code",
   "execution_count": null,
   "id": "61daedad",
   "metadata": {},
   "outputs": [],
   "source": []
  },
  {
   "cell_type": "code",
   "execution_count": null,
   "id": "1b92c2fd",
   "metadata": {},
   "outputs": [],
   "source": []
  },
  {
   "cell_type": "code",
   "execution_count": null,
   "id": "2f86ad81",
   "metadata": {},
   "outputs": [],
   "source": []
  },
  {
   "cell_type": "code",
   "execution_count": null,
   "id": "06bc4284",
   "metadata": {},
   "outputs": [],
   "source": []
  },
  {
   "cell_type": "code",
   "execution_count": null,
   "id": "622bfeba",
   "metadata": {},
   "outputs": [],
   "source": []
  },
  {
   "cell_type": "code",
   "execution_count": null,
   "id": "5baa0b64",
   "metadata": {},
   "outputs": [],
   "source": []
  },
  {
   "cell_type": "code",
   "execution_count": null,
   "id": "f04d597e",
   "metadata": {},
   "outputs": [],
   "source": []
  },
  {
   "cell_type": "code",
   "execution_count": null,
   "id": "bddcb1c9",
   "metadata": {},
   "outputs": [],
   "source": []
  },
  {
   "cell_type": "code",
   "execution_count": null,
   "id": "f65ef210",
   "metadata": {},
   "outputs": [],
   "source": []
  },
  {
   "cell_type": "code",
   "execution_count": null,
   "id": "d41988ca",
   "metadata": {},
   "outputs": [],
   "source": []
  },
  {
   "cell_type": "code",
   "execution_count": null,
   "id": "56419610",
   "metadata": {},
   "outputs": [],
   "source": []
  },
  {
   "cell_type": "code",
   "execution_count": null,
   "id": "f49eaeff",
   "metadata": {},
   "outputs": [],
   "source": []
  },
  {
   "cell_type": "code",
   "execution_count": null,
   "id": "8fe1b3a0",
   "metadata": {},
   "outputs": [],
   "source": []
  },
  {
   "cell_type": "code",
   "execution_count": null,
   "id": "0ed549a5",
   "metadata": {},
   "outputs": [],
   "source": []
  },
  {
   "cell_type": "code",
   "execution_count": null,
   "id": "90f35612",
   "metadata": {},
   "outputs": [],
   "source": []
  },
  {
   "cell_type": "code",
   "execution_count": null,
   "id": "fea638fc",
   "metadata": {},
   "outputs": [],
   "source": []
  },
  {
   "cell_type": "code",
   "execution_count": null,
   "id": "c98afb53",
   "metadata": {},
   "outputs": [],
   "source": []
  },
  {
   "cell_type": "code",
   "execution_count": null,
   "id": "a5a099e7",
   "metadata": {},
   "outputs": [],
   "source": []
  },
  {
   "cell_type": "code",
   "execution_count": null,
   "id": "58673ac5",
   "metadata": {},
   "outputs": [],
   "source": []
  },
  {
   "cell_type": "code",
   "execution_count": null,
   "id": "816bc373",
   "metadata": {},
   "outputs": [],
   "source": []
  },
  {
   "cell_type": "code",
   "execution_count": null,
   "id": "7bc7fca7",
   "metadata": {},
   "outputs": [],
   "source": []
  },
  {
   "cell_type": "code",
   "execution_count": null,
   "id": "ff9e548c",
   "metadata": {},
   "outputs": [],
   "source": []
  },
  {
   "cell_type": "code",
   "execution_count": null,
   "id": "26927acf",
   "metadata": {},
   "outputs": [],
   "source": []
  },
  {
   "cell_type": "code",
   "execution_count": null,
   "id": "8e638d7b",
   "metadata": {},
   "outputs": [],
   "source": []
  },
  {
   "cell_type": "code",
   "execution_count": null,
   "id": "9f0f3151",
   "metadata": {},
   "outputs": [],
   "source": []
  },
  {
   "cell_type": "code",
   "execution_count": null,
   "id": "de90548a",
   "metadata": {},
   "outputs": [],
   "source": []
  }
 ],
 "metadata": {
  "kernelspec": {
   "display_name": "Python 3 (ipykernel)",
   "language": "python",
   "name": "python3"
  },
  "language_info": {
   "codemirror_mode": {
    "name": "ipython",
    "version": 3
   },
   "file_extension": ".py",
   "mimetype": "text/x-python",
   "name": "python",
   "nbconvert_exporter": "python",
   "pygments_lexer": "ipython3",
   "version": "3.11.5"
  }
 },
 "nbformat": 4,
 "nbformat_minor": 5
}
