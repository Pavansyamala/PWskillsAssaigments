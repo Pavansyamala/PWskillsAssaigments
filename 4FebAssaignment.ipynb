{
 "cells": [
  {
   "cell_type": "code",
   "execution_count": 49,
   "id": "66010d74",
   "metadata": {},
   "outputs": [],
   "source": [
    "# Q1)\n",
    "arr_tupl = [('Sachin Tendulkar', 34357), ('Ricky Ponting', 27483), ('Jack Kallis', 25534), ('Virat Kohli', 24936)]\n",
    "arr_tupl.sort(key = lambda x : x[1] )"
   ]
  },
  {
   "cell_type": "code",
   "execution_count": 50,
   "id": "5dd3ac9a",
   "metadata": {},
   "outputs": [
    {
     "data": {
      "text/plain": [
       "[('Virat Kohli', 24936),\n",
       " ('Jack Kallis', 25534),\n",
       " ('Ricky Ponting', 27483),\n",
       " ('Sachin Tendulkar', 34357)]"
      ]
     },
     "execution_count": 50,
     "metadata": {},
     "output_type": "execute_result"
    }
   ],
   "source": [
    "arr_tupl"
   ]
  },
  {
   "cell_type": "code",
   "execution_count": 56,
   "id": "66c26a85",
   "metadata": {},
   "outputs": [
    {
     "data": {
      "text/plain": [
       "[1, 4, 9, 16, 25, 36, 49, 64, 81, 100]"
      ]
     },
     "execution_count": 56,
     "metadata": {},
     "output_type": "execute_result"
    }
   ],
   "source": [
    "# Q2 \n",
    "import math\n",
    "\n",
    "arr1 = [1, 2, 3, 4, 5, 6, 7, 8, 9, 10]\n",
    "\n",
    "def squares(i):\n",
    "    return i*i\n",
    "\n",
    "name = lambda x : list(map(squares , x))\n",
    "\n",
    "name(arr1)"
   ]
  },
  {
   "cell_type": "code",
   "execution_count": 58,
   "id": "f7ea865a",
   "metadata": {},
   "outputs": [
    {
     "data": {
      "text/plain": [
       "['1', '2', '3', '4', '5', '6', '7', '8', '9', '10']"
      ]
     },
     "execution_count": 58,
     "metadata": {},
     "output_type": "execute_result"
    }
   ],
   "source": [
    "#Q3 \n",
    "\n",
    "arr2 = [1, 2, 3, 4, 5, 6, 7, 8, 9, 10] \n",
    "\n",
    "name1 = lambda x : list(map(str , x))\n",
    "\n",
    "name1(arr2)"
   ]
  },
  {
   "cell_type": "code",
   "execution_count": 59,
   "id": "11a02a8a",
   "metadata": {},
   "outputs": [
    {
     "data": {
      "text/plain": [
       "15511210043330985984000000"
      ]
     },
     "execution_count": 59,
     "metadata": {},
     "output_type": "execute_result"
    }
   ],
   "source": [
    "#Q4 \n",
    "from functools import reduce\n",
    "arr3 = [i for i in range(1,26)]\n",
    "\n",
    "def reduce_funct(i,j):\n",
    "    return i*j\n",
    "\n",
    "name2 = lambda x : reduce(reduce_funct , x)\n",
    "\n",
    "name2(arr3)"
   ]
  },
  {
   "cell_type": "code",
   "execution_count": 67,
   "id": "ca66e2d7",
   "metadata": {},
   "outputs": [
    {
     "data": {
      "text/plain": [
       "[6, 60, 90, 120]"
      ]
     },
     "execution_count": 67,
     "metadata": {},
     "output_type": "execute_result"
    }
   ],
   "source": [
    "#Q5 \n",
    "\n",
    "def filtering(i):\n",
    "    if i%2 == 0 and i%3 == 0 :\n",
    "        return True\n",
    "    return False\n",
    "\n",
    "arr4 = [2, 3, 6, 9, 27, 60, 90, 120, 55, 46]\n",
    "\n",
    "name3 = lambda x : list(filter(filtering , arr4))\n",
    "\n",
    "name3(arr4)"
   ]
  },
  {
   "cell_type": "code",
   "execution_count": 68,
   "id": "976320e7",
   "metadata": {},
   "outputs": [
    {
     "data": {
      "text/plain": [
       "['php', 'aba', 'radar', 'level']"
      ]
     },
     "execution_count": 68,
     "metadata": {},
     "output_type": "execute_result"
    }
   ],
   "source": [
    "#Q6 \n",
    "\n",
    "def filtering2(name):\n",
    "    n = len(name)\n",
    "    for i in range(n//2):\n",
    "        if name[i] != name[n-1-i] :\n",
    "            return False \n",
    "    return True\n",
    "\n",
    "arr5 = ['python', 'php', 'aba', 'radar', 'level']\n",
    "\n",
    "name4 = lambda x : list(filter(filtering2 , x))\n",
    "\n",
    "name4(arr5)\n",
    "        "
   ]
  },
  {
   "cell_type": "code",
   "execution_count": null,
   "id": "0882904f",
   "metadata": {},
   "outputs": [],
   "source": []
  },
  {
   "cell_type": "code",
   "execution_count": null,
   "id": "c7206a84",
   "metadata": {},
   "outputs": [],
   "source": []
  },
  {
   "cell_type": "code",
   "execution_count": null,
   "id": "b926c0d4",
   "metadata": {},
   "outputs": [],
   "source": []
  }
 ],
 "metadata": {
  "kernelspec": {
   "display_name": "Python 3 (ipykernel)",
   "language": "python",
   "name": "python3"
  },
  "language_info": {
   "codemirror_mode": {
    "name": "ipython",
    "version": 3
   },
   "file_extension": ".py",
   "mimetype": "text/x-python",
   "name": "python",
   "nbconvert_exporter": "python",
   "pygments_lexer": "ipython3",
   "version": "3.11.5"
  }
 },
 "nbformat": 4,
 "nbformat_minor": 5
}
