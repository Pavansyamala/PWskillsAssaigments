{
 "cells": [
  {
   "cell_type": "raw",
   "id": "2f95b678",
   "metadata": {},
   "source": [
    "Q1 \n",
    "\n",
    "Exception in python  is like when some operation is not performed during excution then it will throw error that is called as an Exception\n",
    "\n",
    "Syntax Error is arised when there is some kind of syntax wrong in the code . (like indentation or variable name creation  , etc..)\n"
   ]
  },
  {
   "cell_type": "raw",
   "id": "d2c9982d",
   "metadata": {},
   "source": [
    "Q2) \n",
    "\n",
    "\n",
    "When an Exception is not handled then users will not able to know what kind of wrong occured in his code sp it is important to know about errors \n"
   ]
  },
  {
   "cell_type": "raw",
   "id": "42e57aff",
   "metadata": {},
   "source": [
    "Q3) \n",
    "\n",
    "try and Except statements will be used for handling exceptions in Python "
   ]
  },
  {
   "cell_type": "code",
   "execution_count": 21,
   "id": "4926ec7e",
   "metadata": {},
   "outputs": [
    {
     "name": "stdout",
     "output_type": "stream",
     "text": [
      "division by zero\n"
     ]
    }
   ],
   "source": [
    "try : \n",
    "    a = 1/0 \n",
    "except Exception as e :\n",
    "    print(e)"
   ]
  },
  {
   "cell_type": "raw",
   "id": "3c82a24c",
   "metadata": {},
   "source": [
    "Q4) \n",
    "\n",
    "try : this statement is used for excuting the block of code \n",
    "except : this will excutes if the try stetement will throw some kind of error \n",
    "else : it will get excuted if except statement is not excuted\n",
    "finally : this statement excutes even without occurances of except , else \n",
    "raise : this statement is used to raise the Exceptions using the inbuilt Exceptions library "
   ]
  },
  {
   "cell_type": "raw",
   "id": "df699904",
   "metadata": {},
   "source": [
    "Q5) \n",
    "\n",
    "Custom Exception is used when the user wants to define his/her own Exception when ever it is occured \n",
    "\n",
    "this will helps user to create the message however he likes "
   ]
  },
  {
   "cell_type": "code",
   "execution_count": 39,
   "id": "3c3c9947",
   "metadata": {},
   "outputs": [],
   "source": [
    "# Q6)\n",
    "\n",
    "import sys \n",
    "\n",
    "class CustomException(Exception):\n",
    "    \n",
    "    def __init__(self, errorMessage):\n",
    "        self.message = str(errorMessage)\n",
    "        \n",
    "    def __str__(self): \n",
    "        return self.message\n"
   ]
  },
  {
   "cell_type": "code",
   "execution_count": 40,
   "id": "aa6ec7bc",
   "metadata": {},
   "outputs": [
    {
     "name": "stdout",
     "output_type": "stream",
     "text": [
      "division by zero\n"
     ]
    }
   ],
   "source": [
    "try : \n",
    "    a = 1/0 \n",
    "except Exception as e :\n",
    "    a = CustomException(e)\n",
    "    print(a)"
   ]
  },
  {
   "cell_type": "code",
   "execution_count": null,
   "id": "de56bcab",
   "metadata": {},
   "outputs": [],
   "source": []
  },
  {
   "cell_type": "code",
   "execution_count": null,
   "id": "2f88c0ad",
   "metadata": {},
   "outputs": [],
   "source": []
  },
  {
   "cell_type": "code",
   "execution_count": null,
   "id": "f80c489b",
   "metadata": {},
   "outputs": [],
   "source": []
  }
 ],
 "metadata": {
  "kernelspec": {
   "display_name": "Python 3 (ipykernel)",
   "language": "python",
   "name": "python3"
  },
  "language_info": {
   "codemirror_mode": {
    "name": "ipython",
    "version": 3
   },
   "file_extension": ".py",
   "mimetype": "text/x-python",
   "name": "python",
   "nbconvert_exporter": "python",
   "pygments_lexer": "ipython3",
   "version": "3.11.5"
  }
 },
 "nbformat": 4,
 "nbformat_minor": 5
}
