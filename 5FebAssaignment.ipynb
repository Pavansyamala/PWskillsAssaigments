{
 "cells": [
  {
   "cell_type": "raw",
   "id": "d7d75359",
   "metadata": {},
   "source": [
    "Q1) \n",
    "\n",
    "Class : Class is like defining our own data structure \n",
    "object : Object is the variable created to that Data Structure  \n",
    "\n",
    "\n",
    "Ex: Car is a data type , Tesla is an object to the class Car"
   ]
  },
  {
   "cell_type": "raw",
   "id": "5f408356",
   "metadata": {},
   "source": [
    "Q2) \n",
    "\n",
    "Four Pillars of OOPS :\n",
    "\n",
    "    1) Inheritance \n",
    "    2) Polymorphism \n",
    "    3) Encaptulation\n",
    "    4) Abstraction"
   ]
  },
  {
   "cell_type": "raw",
   "id": "08ffe47e",
   "metadata": {},
   "source": [
    "Q3) \n",
    "\n",
    "__init__   method in Classes is used to initialize the Class object automatically . This method will excutes automatically when user will excutes this "
   ]
  },
  {
   "cell_type": "raw",
   "id": "a6362c44",
   "metadata": {},
   "source": [
    "Q4) \n",
    "\n",
    "\n",
    "self , is used in Classes methods because it is used to identify that this particular object of the class is calling that method"
   ]
  },
  {
   "cell_type": "raw",
   "id": "91573a27",
   "metadata": {},
   "source": [
    "Q5)\n",
    "\n",
    "Inheritance : \n",
    "\n",
    "it is the method through which we will get some methods of the parent class to the child class \n",
    "\n",
    "example : \n",
    "\n",
    "class A: \n",
    "    def superstore(self):\n",
    "        self.namestore = 'Malasyian Super Store'  \n",
    "        \n",
    "class B(A): \n",
    "\n",
    "    def name(self):\n",
    "        self.mu=yname = 'B' \n",
    "        \n",
    "  when we excutes \n",
    "      obj = B()\n",
    "      obj.superstore()\n",
    "      print(obj.namestore) it will print 'Malasyian Super Store' even though class B doesnt have this method due to inheritance"
   ]
  },
  {
   "cell_type": "code",
   "execution_count": null,
   "id": "5188a879",
   "metadata": {},
   "outputs": [],
   "source": []
  },
  {
   "cell_type": "code",
   "execution_count": null,
   "id": "4389a571",
   "metadata": {},
   "outputs": [],
   "source": []
  },
  {
   "cell_type": "code",
   "execution_count": null,
   "id": "c3be2543",
   "metadata": {},
   "outputs": [],
   "source": []
  },
  {
   "cell_type": "code",
   "execution_count": null,
   "id": "6d7badcf",
   "metadata": {},
   "outputs": [],
   "source": []
  },
  {
   "cell_type": "code",
   "execution_count": null,
   "id": "c6fbd7f8",
   "metadata": {},
   "outputs": [],
   "source": []
  },
  {
   "cell_type": "code",
   "execution_count": null,
   "id": "7e795a9a",
   "metadata": {},
   "outputs": [],
   "source": []
  },
  {
   "cell_type": "code",
   "execution_count": null,
   "id": "89276ed2",
   "metadata": {},
   "outputs": [],
   "source": []
  },
  {
   "cell_type": "code",
   "execution_count": null,
   "id": "35d6f3b1",
   "metadata": {},
   "outputs": [],
   "source": []
  },
  {
   "cell_type": "code",
   "execution_count": null,
   "id": "9e0e0167",
   "metadata": {},
   "outputs": [],
   "source": []
  },
  {
   "cell_type": "code",
   "execution_count": null,
   "id": "ef243ef3",
   "metadata": {},
   "outputs": [],
   "source": []
  }
 ],
 "metadata": {
  "kernelspec": {
   "display_name": "Python 3 (ipykernel)",
   "language": "python",
   "name": "python3"
  },
  "language_info": {
   "codemirror_mode": {
    "name": "ipython",
    "version": 3
   },
   "file_extension": ".py",
   "mimetype": "text/x-python",
   "name": "python",
   "nbconvert_exporter": "python",
   "pygments_lexer": "ipython3",
   "version": "3.11.5"
  }
 },
 "nbformat": 4,
 "nbformat_minor": 5
}
