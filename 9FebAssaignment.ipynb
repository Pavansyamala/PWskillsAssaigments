{
 "cells": [
  {
   "cell_type": "code",
   "execution_count": 1,
   "id": "7cdf6db4",
   "metadata": {},
   "outputs": [],
   "source": [
    "# Q1)\n",
    "\n",
    "class Velicle:\n",
    "    def __init__(self , name_vehicle , max_speed , average_speed):\n",
    "        self.name_vehicle = name_vehicle\n",
    "        self.max_speed = max_speed\n",
    "        self.average_speed = average_speed         "
   ]
  },
  {
   "cell_type": "code",
   "execution_count": 4,
   "id": "861ae633",
   "metadata": {},
   "outputs": [
    {
     "name": "stdout",
     "output_type": "stream",
     "text": [
      "Name of the Car is Tesla and its seating capacity is 10\n"
     ]
    }
   ],
   "source": [
    "# Q2) \n",
    "\n",
    "class Car(Velicle):\n",
    "    \n",
    "    def seating_capacity(self , capacity):\n",
    "        output = f'Name of the Car is {self.name_vehicle} and its seating capacity is {capacity}'\n",
    "        return output\n",
    "        \n",
    "obj = Car('Tesla' , 160 , 90)\n",
    "print(obj.seating_capacity(10))"
   ]
  },
  {
   "cell_type": "code",
   "execution_count": 5,
   "id": "7786f362",
   "metadata": {},
   "outputs": [
    {
     "name": "stdout",
     "output_type": "stream",
     "text": [
      "Name of the Car is TVS and its seating capacity is 4\n",
      "I am Created for Explaining only\n"
     ]
    }
   ],
   "source": [
    "#Q3) Multiple inheritance is inherting a class into chind class then inheiting that child class into some other class \n",
    "\n",
    "class subCar(Car):\n",
    "    def max_matching(self):\n",
    "        return 'I am Created for Explaining only'\n",
    "    \n",
    "obj2 = subCar('TVS' , 160 , 90)\n",
    "print(obj2.seating_capacity(4))\n",
    "print(obj2.max_matching())"
   ]
  },
  {
   "cell_type": "code",
   "execution_count": 8,
   "id": "1d2aafc4",
   "metadata": {},
   "outputs": [
    {
     "data": {
      "text/plain": [
       "20"
      ]
     },
     "execution_count": 8,
     "metadata": {},
     "output_type": "execute_result"
    }
   ],
   "source": [
    "#Q4) Getters used for getting variables and setters used for setting those variables examples are given below \n",
    "\n",
    "\n",
    "class Testing:\n",
    "    \n",
    "    def __init__(self): # This is also an example of getter and setter\n",
    "        self.a = 10\n",
    "        \n",
    "    def getter(self):\n",
    "        try :\n",
    "            return self.a\n",
    "        except Exception as e :\n",
    "            return f'The variable named {var} is not exists'\n",
    "        \n",
    "    def setter(self , val):\n",
    "        \n",
    "        self.a = val\n",
    "        \n",
    "        \n",
    "obj3 = Testing()\n",
    "\n",
    "obj3.setter(20)\n",
    "obj3.getter()"
   ]
  },
  {
   "cell_type": "code",
   "execution_count": 10,
   "id": "ee6a16b5",
   "metadata": {},
   "outputs": [
    {
     "name": "stdout",
     "output_type": "stream",
     "text": [
      "I am Child Class\n"
     ]
    }
   ],
   "source": [
    "# Q5 Method Overriding is a topic when a child class has a same method that parent class has then it will automatically \n",
    "# takes child class without taking parents class \n",
    "\n",
    "class Parent:\n",
    "    \n",
    "    def same(self):\n",
    "        print(\"I am Parent Class\")\n",
    "        \n",
    "class Child(Parent):\n",
    "    def same(self):\n",
    "        print('I am Child Class')\n",
    "        \n",
    "obj = Child()\n",
    "obj.same()"
   ]
  },
  {
   "cell_type": "code",
   "execution_count": null,
   "id": "7b13cc02",
   "metadata": {},
   "outputs": [],
   "source": []
  },
  {
   "cell_type": "code",
   "execution_count": null,
   "id": "3f0d9fc3",
   "metadata": {},
   "outputs": [],
   "source": []
  },
  {
   "cell_type": "code",
   "execution_count": null,
   "id": "abf973b8",
   "metadata": {},
   "outputs": [],
   "source": []
  },
  {
   "cell_type": "code",
   "execution_count": null,
   "id": "51045652",
   "metadata": {},
   "outputs": [],
   "source": []
  },
  {
   "cell_type": "code",
   "execution_count": null,
   "id": "135af69b",
   "metadata": {},
   "outputs": [],
   "source": []
  },
  {
   "cell_type": "code",
   "execution_count": null,
   "id": "1c22c681",
   "metadata": {},
   "outputs": [],
   "source": []
  },
  {
   "cell_type": "code",
   "execution_count": null,
   "id": "1b0d8359",
   "metadata": {},
   "outputs": [],
   "source": []
  },
  {
   "cell_type": "code",
   "execution_count": null,
   "id": "0ff43b37",
   "metadata": {},
   "outputs": [],
   "source": []
  }
 ],
 "metadata": {
  "kernelspec": {
   "display_name": "Python 3 (ipykernel)",
   "language": "python",
   "name": "python3"
  },
  "language_info": {
   "codemirror_mode": {
    "name": "ipython",
    "version": 3
   },
   "file_extension": ".py",
   "mimetype": "text/x-python",
   "name": "python",
   "nbconvert_exporter": "python",
   "pygments_lexer": "ipython3",
   "version": "3.11.5"
  }
 },
 "nbformat": 4,
 "nbformat_minor": 5
}
